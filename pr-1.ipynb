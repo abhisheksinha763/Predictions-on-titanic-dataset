{
 "cells": [
  {
   "cell_type": "markdown",
   "id": "4029ab7a",
   "metadata": {},
   "source": [
    "In this project I have given two csv files of titanic dataset train and test csv files. In this project I have implemented my own logistic regression function and used them to predict for the test data."
   ]
  },
  {
   "cell_type": "code",
   "execution_count": 1,
   "id": "72fd3646",
   "metadata": {},
   "outputs": [],
   "source": [
    "import pandas as pd\n",
    "import numpy as np\n",
    "import matplotlib.pyplot as plt\n",
    "from sklearn import preprocessing"
   ]
  },
  {
   "cell_type": "code",
   "execution_count": 2,
   "id": "465e70d6",
   "metadata": {},
   "outputs": [],
   "source": [
    "data = pd.read_csv(\"train.csv\")"
   ]
  },
  {
   "cell_type": "code",
   "execution_count": 3,
   "id": "d5928bbc",
   "metadata": {},
   "outputs": [
    {
     "name": "stdout",
     "output_type": "stream",
     "text": [
      "The number of samples in the train data is  668\n"
     ]
    }
   ],
   "source": [
    "print('The number of samples in the train data is ',data.shape[0])"
   ]
  },
  {
   "cell_type": "code",
   "execution_count": 4,
   "id": "74ac1777",
   "metadata": {},
   "outputs": [
    {
     "name": "stdout",
     "output_type": "stream",
     "text": [
      "The number of features in the train data is  11\n"
     ]
    }
   ],
   "source": [
    "print('The number of features in the train data is ',data.shape[1])"
   ]
  },
  {
   "cell_type": "code",
   "execution_count": 5,
   "id": "1709df26",
   "metadata": {},
   "outputs": [
    {
     "data": {
      "text/html": [
       "<div>\n",
       "<style scoped>\n",
       "    .dataframe tbody tr th:only-of-type {\n",
       "        vertical-align: middle;\n",
       "    }\n",
       "\n",
       "    .dataframe tbody tr th {\n",
       "        vertical-align: top;\n",
       "    }\n",
       "\n",
       "    .dataframe thead th {\n",
       "        text-align: right;\n",
       "    }\n",
       "</style>\n",
       "<table border=\"1\" class=\"dataframe\">\n",
       "  <thead>\n",
       "    <tr style=\"text-align: right;\">\n",
       "      <th></th>\n",
       "      <th>Pclass</th>\n",
       "      <th>Name</th>\n",
       "      <th>Sex</th>\n",
       "      <th>Age</th>\n",
       "      <th>SibSp</th>\n",
       "      <th>Parch</th>\n",
       "      <th>Ticket</th>\n",
       "      <th>Fare</th>\n",
       "      <th>Cabin</th>\n",
       "      <th>Embarked</th>\n",
       "      <th>Survived</th>\n",
       "    </tr>\n",
       "  </thead>\n",
       "  <tbody>\n",
       "    <tr>\n",
       "      <th>0</th>\n",
       "      <td>2</td>\n",
       "      <td>Weisz, Mrs. Leopold (Mathilde Francoise Pede)</td>\n",
       "      <td>female</td>\n",
       "      <td>29.0</td>\n",
       "      <td>1</td>\n",
       "      <td>0</td>\n",
       "      <td>228414</td>\n",
       "      <td>26.000</td>\n",
       "      <td>NaN</td>\n",
       "      <td>S</td>\n",
       "      <td>1</td>\n",
       "    </tr>\n",
       "    <tr>\n",
       "      <th>1</th>\n",
       "      <td>3</td>\n",
       "      <td>Williams, Mr. Howard Hugh \"Harry\"</td>\n",
       "      <td>male</td>\n",
       "      <td>NaN</td>\n",
       "      <td>0</td>\n",
       "      <td>0</td>\n",
       "      <td>A/5 2466</td>\n",
       "      <td>8.050</td>\n",
       "      <td>NaN</td>\n",
       "      <td>S</td>\n",
       "      <td>0</td>\n",
       "    </tr>\n",
       "    <tr>\n",
       "      <th>2</th>\n",
       "      <td>2</td>\n",
       "      <td>Morley, Mr. Henry Samuel (\"Mr Henry Marshall\")</td>\n",
       "      <td>male</td>\n",
       "      <td>39.0</td>\n",
       "      <td>0</td>\n",
       "      <td>0</td>\n",
       "      <td>250655</td>\n",
       "      <td>26.000</td>\n",
       "      <td>NaN</td>\n",
       "      <td>S</td>\n",
       "      <td>0</td>\n",
       "    </tr>\n",
       "    <tr>\n",
       "      <th>3</th>\n",
       "      <td>3</td>\n",
       "      <td>Palsson, Mrs. Nils (Alma Cornelia Berglund)</td>\n",
       "      <td>female</td>\n",
       "      <td>29.0</td>\n",
       "      <td>0</td>\n",
       "      <td>4</td>\n",
       "      <td>349909</td>\n",
       "      <td>21.075</td>\n",
       "      <td>NaN</td>\n",
       "      <td>S</td>\n",
       "      <td>0</td>\n",
       "    </tr>\n",
       "    <tr>\n",
       "      <th>4</th>\n",
       "      <td>3</td>\n",
       "      <td>Sutehall, Mr. Henry Jr</td>\n",
       "      <td>male</td>\n",
       "      <td>25.0</td>\n",
       "      <td>0</td>\n",
       "      <td>0</td>\n",
       "      <td>SOTON/OQ 392076</td>\n",
       "      <td>7.050</td>\n",
       "      <td>NaN</td>\n",
       "      <td>S</td>\n",
       "      <td>0</td>\n",
       "    </tr>\n",
       "  </tbody>\n",
       "</table>\n",
       "</div>"
      ],
      "text/plain": [
       "   Pclass                                            Name     Sex   Age  \\\n",
       "0       2   Weisz, Mrs. Leopold (Mathilde Francoise Pede)  female  29.0   \n",
       "1       3               Williams, Mr. Howard Hugh \"Harry\"    male   NaN   \n",
       "2       2  Morley, Mr. Henry Samuel (\"Mr Henry Marshall\")    male  39.0   \n",
       "3       3     Palsson, Mrs. Nils (Alma Cornelia Berglund)  female  29.0   \n",
       "4       3                          Sutehall, Mr. Henry Jr    male  25.0   \n",
       "\n",
       "   SibSp  Parch           Ticket    Fare Cabin Embarked  Survived  \n",
       "0      1      0           228414  26.000   NaN        S         1  \n",
       "1      0      0         A/5 2466   8.050   NaN        S         0  \n",
       "2      0      0           250655  26.000   NaN        S         0  \n",
       "3      0      4           349909  21.075   NaN        S         0  \n",
       "4      0      0  SOTON/OQ 392076   7.050   NaN        S         0  "
      ]
     },
     "execution_count": 5,
     "metadata": {},
     "output_type": "execute_result"
    }
   ],
   "source": [
    "data.head()"
   ]
  },
  {
   "cell_type": "markdown",
   "id": "97fb000f",
   "metadata": {},
   "source": [
    "clearly the feature such as Name and Ticket has no use in predicting the output so we will drop such features and instead of \n",
    "sex features we will create a feature as male containing values 0 and 1 if the value in it is 1 then passenger is male otherwise\n",
    "female."
   ]
  },
  {
   "cell_type": "code",
   "execution_count": 6,
   "id": "7937be74",
   "metadata": {},
   "outputs": [
    {
     "data": {
      "text/html": [
       "<div>\n",
       "<style scoped>\n",
       "    .dataframe tbody tr th:only-of-type {\n",
       "        vertical-align: middle;\n",
       "    }\n",
       "\n",
       "    .dataframe tbody tr th {\n",
       "        vertical-align: top;\n",
       "    }\n",
       "\n",
       "    .dataframe thead th {\n",
       "        text-align: right;\n",
       "    }\n",
       "</style>\n",
       "<table border=\"1\" class=\"dataframe\">\n",
       "  <thead>\n",
       "    <tr style=\"text-align: right;\">\n",
       "      <th></th>\n",
       "      <th>Pclass</th>\n",
       "      <th>Age</th>\n",
       "      <th>SibSp</th>\n",
       "      <th>Parch</th>\n",
       "      <th>Fare</th>\n",
       "      <th>Cabin</th>\n",
       "      <th>Embarked</th>\n",
       "      <th>Survived</th>\n",
       "      <th>Male</th>\n",
       "    </tr>\n",
       "  </thead>\n",
       "  <tbody>\n",
       "    <tr>\n",
       "      <th>0</th>\n",
       "      <td>2</td>\n",
       "      <td>29.0</td>\n",
       "      <td>1</td>\n",
       "      <td>0</td>\n",
       "      <td>26.000</td>\n",
       "      <td>NaN</td>\n",
       "      <td>S</td>\n",
       "      <td>1</td>\n",
       "      <td>0</td>\n",
       "    </tr>\n",
       "    <tr>\n",
       "      <th>1</th>\n",
       "      <td>3</td>\n",
       "      <td>NaN</td>\n",
       "      <td>0</td>\n",
       "      <td>0</td>\n",
       "      <td>8.050</td>\n",
       "      <td>NaN</td>\n",
       "      <td>S</td>\n",
       "      <td>0</td>\n",
       "      <td>1</td>\n",
       "    </tr>\n",
       "    <tr>\n",
       "      <th>2</th>\n",
       "      <td>2</td>\n",
       "      <td>39.0</td>\n",
       "      <td>0</td>\n",
       "      <td>0</td>\n",
       "      <td>26.000</td>\n",
       "      <td>NaN</td>\n",
       "      <td>S</td>\n",
       "      <td>0</td>\n",
       "      <td>1</td>\n",
       "    </tr>\n",
       "    <tr>\n",
       "      <th>3</th>\n",
       "      <td>3</td>\n",
       "      <td>29.0</td>\n",
       "      <td>0</td>\n",
       "      <td>4</td>\n",
       "      <td>21.075</td>\n",
       "      <td>NaN</td>\n",
       "      <td>S</td>\n",
       "      <td>0</td>\n",
       "      <td>0</td>\n",
       "    </tr>\n",
       "    <tr>\n",
       "      <th>4</th>\n",
       "      <td>3</td>\n",
       "      <td>25.0</td>\n",
       "      <td>0</td>\n",
       "      <td>0</td>\n",
       "      <td>7.050</td>\n",
       "      <td>NaN</td>\n",
       "      <td>S</td>\n",
       "      <td>0</td>\n",
       "      <td>1</td>\n",
       "    </tr>\n",
       "  </tbody>\n",
       "</table>\n",
       "</div>"
      ],
      "text/plain": [
       "   Pclass   Age  SibSp  Parch    Fare Cabin Embarked  Survived  Male\n",
       "0       2  29.0      1      0  26.000   NaN        S         1     0\n",
       "1       3   NaN      0      0   8.050   NaN        S         0     1\n",
       "2       2  39.0      0      0  26.000   NaN        S         0     1\n",
       "3       3  29.0      0      4  21.075   NaN        S         0     0\n",
       "4       3  25.0      0      0   7.050   NaN        S         0     1"
      ]
     },
     "execution_count": 6,
     "metadata": {},
     "output_type": "execute_result"
    }
   ],
   "source": [
    "data.drop([\"Name\",\"Ticket\"],axis=1,inplace=True)\n",
    "def male_ohe(g):\n",
    "    if g == \"male\":\n",
    "        return 1\n",
    "    else:\n",
    "        return 0\n",
    "\n",
    "\n",
    "data[\"Male\"] = data[\"Sex\"].apply(male_ohe)\n",
    "data.drop(\"Sex\",axis=1,inplace=True)\n",
    "data.head()"
   ]
  },
  {
   "cell_type": "markdown",
   "id": "de7fa054",
   "metadata": {},
   "source": [
    "In place of Embarked features we are creating three different features as Cheerbourg, Queenstown and Southamptom having values \n",
    "0 or 1 depending upon where the passenger embarked and dropping the feature Embarked"
   ]
  },
  {
   "cell_type": "code",
   "execution_count": 7,
   "id": "9b7525ae",
   "metadata": {},
   "outputs": [
    {
     "data": {
      "text/html": [
       "<div>\n",
       "<style scoped>\n",
       "    .dataframe tbody tr th:only-of-type {\n",
       "        vertical-align: middle;\n",
       "    }\n",
       "\n",
       "    .dataframe tbody tr th {\n",
       "        vertical-align: top;\n",
       "    }\n",
       "\n",
       "    .dataframe thead th {\n",
       "        text-align: right;\n",
       "    }\n",
       "</style>\n",
       "<table border=\"1\" class=\"dataframe\">\n",
       "  <thead>\n",
       "    <tr style=\"text-align: right;\">\n",
       "      <th></th>\n",
       "      <th>Pclass</th>\n",
       "      <th>Age</th>\n",
       "      <th>SibSp</th>\n",
       "      <th>Parch</th>\n",
       "      <th>Fare</th>\n",
       "      <th>Cabin</th>\n",
       "      <th>Survived</th>\n",
       "      <th>Male</th>\n",
       "      <th>Cherbourg</th>\n",
       "      <th>Queenstown</th>\n",
       "      <th>Southamptom</th>\n",
       "    </tr>\n",
       "  </thead>\n",
       "  <tbody>\n",
       "    <tr>\n",
       "      <th>0</th>\n",
       "      <td>2</td>\n",
       "      <td>29.0</td>\n",
       "      <td>1</td>\n",
       "      <td>0</td>\n",
       "      <td>26.000</td>\n",
       "      <td>NaN</td>\n",
       "      <td>1</td>\n",
       "      <td>0</td>\n",
       "      <td>0</td>\n",
       "      <td>0</td>\n",
       "      <td>1</td>\n",
       "    </tr>\n",
       "    <tr>\n",
       "      <th>1</th>\n",
       "      <td>3</td>\n",
       "      <td>NaN</td>\n",
       "      <td>0</td>\n",
       "      <td>0</td>\n",
       "      <td>8.050</td>\n",
       "      <td>NaN</td>\n",
       "      <td>0</td>\n",
       "      <td>1</td>\n",
       "      <td>0</td>\n",
       "      <td>0</td>\n",
       "      <td>1</td>\n",
       "    </tr>\n",
       "    <tr>\n",
       "      <th>2</th>\n",
       "      <td>2</td>\n",
       "      <td>39.0</td>\n",
       "      <td>0</td>\n",
       "      <td>0</td>\n",
       "      <td>26.000</td>\n",
       "      <td>NaN</td>\n",
       "      <td>0</td>\n",
       "      <td>1</td>\n",
       "      <td>0</td>\n",
       "      <td>0</td>\n",
       "      <td>1</td>\n",
       "    </tr>\n",
       "    <tr>\n",
       "      <th>3</th>\n",
       "      <td>3</td>\n",
       "      <td>29.0</td>\n",
       "      <td>0</td>\n",
       "      <td>4</td>\n",
       "      <td>21.075</td>\n",
       "      <td>NaN</td>\n",
       "      <td>0</td>\n",
       "      <td>0</td>\n",
       "      <td>0</td>\n",
       "      <td>0</td>\n",
       "      <td>1</td>\n",
       "    </tr>\n",
       "    <tr>\n",
       "      <th>4</th>\n",
       "      <td>3</td>\n",
       "      <td>25.0</td>\n",
       "      <td>0</td>\n",
       "      <td>0</td>\n",
       "      <td>7.050</td>\n",
       "      <td>NaN</td>\n",
       "      <td>0</td>\n",
       "      <td>1</td>\n",
       "      <td>0</td>\n",
       "      <td>0</td>\n",
       "      <td>1</td>\n",
       "    </tr>\n",
       "  </tbody>\n",
       "</table>\n",
       "</div>"
      ],
      "text/plain": [
       "   Pclass   Age  SibSp  Parch    Fare Cabin  Survived  Male  Cherbourg  \\\n",
       "0       2  29.0      1      0  26.000   NaN         1     0          0   \n",
       "1       3   NaN      0      0   8.050   NaN         0     1          0   \n",
       "2       2  39.0      0      0  26.000   NaN         0     1          0   \n",
       "3       3  29.0      0      4  21.075   NaN         0     0          0   \n",
       "4       3  25.0      0      0   7.050   NaN         0     1          0   \n",
       "\n",
       "   Queenstown  Southamptom  \n",
       "0           0            1  \n",
       "1           0            1  \n",
       "2           0            1  \n",
       "3           0            1  \n",
       "4           0            1  "
      ]
     },
     "execution_count": 7,
     "metadata": {},
     "output_type": "execute_result"
    }
   ],
   "source": [
    "def cherbourg(s):\n",
    "    if s==\"C\":\n",
    "        return 1\n",
    "    else:\n",
    "        return 0\n",
    "    \n",
    "def queenstown(s):\n",
    "    if s==\"Q\":\n",
    "        return 1\n",
    "    else:\n",
    "        return 0\n",
    "\n",
    "def southamptom(s):\n",
    "    if s==\"S\":\n",
    "        return 1\n",
    "    else:\n",
    "        return 0\n",
    "data[\"Cherbourg\"] = data.Embarked.apply(cherbourg)\n",
    "data[\"Queenstown\"] = data.Embarked.apply(queenstown)\n",
    "data[\"Southamptom\"] = data.Embarked.apply(southamptom)\n",
    "data.drop(\"Embarked\",axis=1, inplace=True)\n",
    "data.head()"
   ]
  },
  {
   "cell_type": "markdown",
   "id": "b6f5a3ba",
   "metadata": {},
   "source": [
    "passengers who have there cabin we are assigning them 1 values whereas passenger who don't have any cabins we assign them 0 values"
   ]
  },
  {
   "cell_type": "code",
   "execution_count": 8,
   "id": "cdfcf3f5",
   "metadata": {},
   "outputs": [
    {
     "data": {
      "text/html": [
       "<div>\n",
       "<style scoped>\n",
       "    .dataframe tbody tr th:only-of-type {\n",
       "        vertical-align: middle;\n",
       "    }\n",
       "\n",
       "    .dataframe tbody tr th {\n",
       "        vertical-align: top;\n",
       "    }\n",
       "\n",
       "    .dataframe thead th {\n",
       "        text-align: right;\n",
       "    }\n",
       "</style>\n",
       "<table border=\"1\" class=\"dataframe\">\n",
       "  <thead>\n",
       "    <tr style=\"text-align: right;\">\n",
       "      <th></th>\n",
       "      <th>Pclass</th>\n",
       "      <th>Age</th>\n",
       "      <th>SibSp</th>\n",
       "      <th>Parch</th>\n",
       "      <th>Fare</th>\n",
       "      <th>Cabin</th>\n",
       "      <th>Survived</th>\n",
       "      <th>Male</th>\n",
       "      <th>Cherbourg</th>\n",
       "      <th>Queenstown</th>\n",
       "      <th>Southamptom</th>\n",
       "    </tr>\n",
       "  </thead>\n",
       "  <tbody>\n",
       "    <tr>\n",
       "      <th>0</th>\n",
       "      <td>2</td>\n",
       "      <td>29.0</td>\n",
       "      <td>1</td>\n",
       "      <td>0</td>\n",
       "      <td>26.0000</td>\n",
       "      <td>0</td>\n",
       "      <td>1</td>\n",
       "      <td>0</td>\n",
       "      <td>0</td>\n",
       "      <td>0</td>\n",
       "      <td>1</td>\n",
       "    </tr>\n",
       "    <tr>\n",
       "      <th>1</th>\n",
       "      <td>3</td>\n",
       "      <td>NaN</td>\n",
       "      <td>0</td>\n",
       "      <td>0</td>\n",
       "      <td>8.0500</td>\n",
       "      <td>0</td>\n",
       "      <td>0</td>\n",
       "      <td>1</td>\n",
       "      <td>0</td>\n",
       "      <td>0</td>\n",
       "      <td>1</td>\n",
       "    </tr>\n",
       "    <tr>\n",
       "      <th>2</th>\n",
       "      <td>2</td>\n",
       "      <td>39.0</td>\n",
       "      <td>0</td>\n",
       "      <td>0</td>\n",
       "      <td>26.0000</td>\n",
       "      <td>0</td>\n",
       "      <td>0</td>\n",
       "      <td>1</td>\n",
       "      <td>0</td>\n",
       "      <td>0</td>\n",
       "      <td>1</td>\n",
       "    </tr>\n",
       "    <tr>\n",
       "      <th>3</th>\n",
       "      <td>3</td>\n",
       "      <td>29.0</td>\n",
       "      <td>0</td>\n",
       "      <td>4</td>\n",
       "      <td>21.0750</td>\n",
       "      <td>0</td>\n",
       "      <td>0</td>\n",
       "      <td>0</td>\n",
       "      <td>0</td>\n",
       "      <td>0</td>\n",
       "      <td>1</td>\n",
       "    </tr>\n",
       "    <tr>\n",
       "      <th>4</th>\n",
       "      <td>3</td>\n",
       "      <td>25.0</td>\n",
       "      <td>0</td>\n",
       "      <td>0</td>\n",
       "      <td>7.0500</td>\n",
       "      <td>0</td>\n",
       "      <td>0</td>\n",
       "      <td>1</td>\n",
       "      <td>0</td>\n",
       "      <td>0</td>\n",
       "      <td>1</td>\n",
       "    </tr>\n",
       "    <tr>\n",
       "      <th>...</th>\n",
       "      <td>...</td>\n",
       "      <td>...</td>\n",
       "      <td>...</td>\n",
       "      <td>...</td>\n",
       "      <td>...</td>\n",
       "      <td>...</td>\n",
       "      <td>...</td>\n",
       "      <td>...</td>\n",
       "      <td>...</td>\n",
       "      <td>...</td>\n",
       "      <td>...</td>\n",
       "    </tr>\n",
       "    <tr>\n",
       "      <th>663</th>\n",
       "      <td>2</td>\n",
       "      <td>17.0</td>\n",
       "      <td>0</td>\n",
       "      <td>0</td>\n",
       "      <td>10.5000</td>\n",
       "      <td>0</td>\n",
       "      <td>1</td>\n",
       "      <td>0</td>\n",
       "      <td>0</td>\n",
       "      <td>0</td>\n",
       "      <td>1</td>\n",
       "    </tr>\n",
       "    <tr>\n",
       "      <th>664</th>\n",
       "      <td>3</td>\n",
       "      <td>NaN</td>\n",
       "      <td>0</td>\n",
       "      <td>0</td>\n",
       "      <td>7.7500</td>\n",
       "      <td>0</td>\n",
       "      <td>0</td>\n",
       "      <td>1</td>\n",
       "      <td>0</td>\n",
       "      <td>1</td>\n",
       "      <td>0</td>\n",
       "    </tr>\n",
       "    <tr>\n",
       "      <th>665</th>\n",
       "      <td>3</td>\n",
       "      <td>32.0</td>\n",
       "      <td>0</td>\n",
       "      <td>0</td>\n",
       "      <td>56.4958</td>\n",
       "      <td>0</td>\n",
       "      <td>1</td>\n",
       "      <td>1</td>\n",
       "      <td>0</td>\n",
       "      <td>0</td>\n",
       "      <td>1</td>\n",
       "    </tr>\n",
       "    <tr>\n",
       "      <th>666</th>\n",
       "      <td>3</td>\n",
       "      <td>22.0</td>\n",
       "      <td>0</td>\n",
       "      <td>0</td>\n",
       "      <td>9.8375</td>\n",
       "      <td>0</td>\n",
       "      <td>0</td>\n",
       "      <td>0</td>\n",
       "      <td>0</td>\n",
       "      <td>0</td>\n",
       "      <td>1</td>\n",
       "    </tr>\n",
       "    <tr>\n",
       "      <th>667</th>\n",
       "      <td>3</td>\n",
       "      <td>NaN</td>\n",
       "      <td>1</td>\n",
       "      <td>0</td>\n",
       "      <td>15.5000</td>\n",
       "      <td>0</td>\n",
       "      <td>1</td>\n",
       "      <td>0</td>\n",
       "      <td>0</td>\n",
       "      <td>1</td>\n",
       "      <td>0</td>\n",
       "    </tr>\n",
       "  </tbody>\n",
       "</table>\n",
       "<p>668 rows × 11 columns</p>\n",
       "</div>"
      ],
      "text/plain": [
       "     Pclass   Age  SibSp  Parch     Fare  Cabin  Survived  Male  Cherbourg  \\\n",
       "0         2  29.0      1      0  26.0000      0         1     0          0   \n",
       "1         3   NaN      0      0   8.0500      0         0     1          0   \n",
       "2         2  39.0      0      0  26.0000      0         0     1          0   \n",
       "3         3  29.0      0      4  21.0750      0         0     0          0   \n",
       "4         3  25.0      0      0   7.0500      0         0     1          0   \n",
       "..      ...   ...    ...    ...      ...    ...       ...   ...        ...   \n",
       "663       2  17.0      0      0  10.5000      0         1     0          0   \n",
       "664       3   NaN      0      0   7.7500      0         0     1          0   \n",
       "665       3  32.0      0      0  56.4958      0         1     1          0   \n",
       "666       3  22.0      0      0   9.8375      0         0     0          0   \n",
       "667       3   NaN      1      0  15.5000      0         1     0          0   \n",
       "\n",
       "     Queenstown  Southamptom  \n",
       "0             0            1  \n",
       "1             0            1  \n",
       "2             0            1  \n",
       "3             0            1  \n",
       "4             0            1  \n",
       "..          ...          ...  \n",
       "663           0            1  \n",
       "664           1            0  \n",
       "665           0            1  \n",
       "666           0            1  \n",
       "667           1            0  \n",
       "\n",
       "[668 rows x 11 columns]"
      ]
     },
     "execution_count": 8,
     "metadata": {},
     "output_type": "execute_result"
    }
   ],
   "source": [
    "def cabin(x):\n",
    "    if x is np.nan:\n",
    "        return 0\n",
    "    else:\n",
    "        return 1\n",
    "data[\"Cabin\"] = data.Cabin.apply(cabin)\n",
    "data"
   ]
  },
  {
   "cell_type": "code",
   "execution_count": 9,
   "id": "10454ce3",
   "metadata": {},
   "outputs": [
    {
     "data": {
      "text/plain": [
       "Pclass           0\n",
       "Age            132\n",
       "SibSp            0\n",
       "Parch            0\n",
       "Fare             0\n",
       "Cabin            0\n",
       "Survived         0\n",
       "Male             0\n",
       "Cherbourg        0\n",
       "Queenstown       0\n",
       "Southamptom      0\n",
       "dtype: int64"
      ]
     },
     "execution_count": 9,
     "metadata": {},
     "output_type": "execute_result"
    }
   ],
   "source": [
    "# check missing values in train data\n",
    "data.isnull().sum()"
   ]
  },
  {
   "cell_type": "code",
   "execution_count": 10,
   "id": "e39b6aaa",
   "metadata": {},
   "outputs": [
    {
     "name": "stdout",
     "output_type": "stream",
     "text": [
      "Percent of missing \"Age\" records is  19.760479041916167 %\n"
     ]
    }
   ],
   "source": [
    "print('Percent of missing \"Age\" records is ',(data['Age'].isnull().sum()/data.shape[0])*100,'%')"
   ]
  },
  {
   "cell_type": "code",
   "execution_count": 11,
   "id": "2dfaee8c",
   "metadata": {},
   "outputs": [
    {
     "data": {
      "image/png": "[encoded data removed]",
      "text/plain": [
       "<Figure size 432x288 with 1 Axes>"
      ]
     },
     "metadata": {
      "needs_background": "light"
     },
     "output_type": "display_data"
    }
   ],
   "source": [
    "ax = data[\"Age\"].hist(bins=15, density=True, color='teal',alpha=0.6)\n",
    "data[\"Age\"].plot(kind='density', color='black')\n",
    "ax.set(xlabel='Age')\n",
    "plt.xlim(-10,85)\n",
    "plt.show()"
   ]
  },
  {
   "cell_type": "code",
   "execution_count": 12,
   "id": "36a6c01f",
   "metadata": {},
   "outputs": [
    {
     "name": "stdout",
     "output_type": "stream",
     "text": [
      "The mean of \"Age\" is 29.70\n",
      "The median of \"Age\" is 29.00\n"
     ]
    }
   ],
   "source": [
    "# mean age\n",
    "print('The mean of \"Age\" is %.2f' %(data[\"Age\"].mean(skipna=True)))\n",
    "# median age\n",
    "print('The median of \"Age\" is %.2f' %(data[\"Age\"].median(skipna=True)))"
   ]
  },
  {
   "cell_type": "markdown",
   "id": "2917eb90",
   "metadata": {},
   "source": [
    "Filling the empty values of Age with the median"
   ]
  },
  {
   "cell_type": "code",
   "execution_count": 13,
   "id": "33134453",
   "metadata": {},
   "outputs": [
    {
     "data": {
      "text/html": [
       "<div>\n",
       "<style scoped>\n",
       "    .dataframe tbody tr th:only-of-type {\n",
       "        vertical-align: middle;\n",
       "    }\n",
       "\n",
       "    .dataframe tbody tr th {\n",
       "        vertical-align: top;\n",
       "    }\n",
       "\n",
       "    .dataframe thead th {\n",
       "        text-align: right;\n",
       "    }\n",
       "</style>\n",
       "<table border=\"1\" class=\"dataframe\">\n",
       "  <thead>\n",
       "    <tr style=\"text-align: right;\">\n",
       "      <th></th>\n",
       "      <th>Pclass</th>\n",
       "      <th>Age</th>\n",
       "      <th>SibSp</th>\n",
       "      <th>Parch</th>\n",
       "      <th>Fare</th>\n",
       "      <th>Cabin</th>\n",
       "      <th>Survived</th>\n",
       "      <th>Male</th>\n",
       "      <th>Cherbourg</th>\n",
       "      <th>Queenstown</th>\n",
       "      <th>Southamptom</th>\n",
       "    </tr>\n",
       "  </thead>\n",
       "  <tbody>\n",
       "    <tr>\n",
       "      <th>0</th>\n",
       "      <td>2</td>\n",
       "      <td>29.0</td>\n",
       "      <td>1</td>\n",
       "      <td>0</td>\n",
       "      <td>26.000</td>\n",
       "      <td>0</td>\n",
       "      <td>1</td>\n",
       "      <td>0</td>\n",
       "      <td>0</td>\n",
       "      <td>0</td>\n",
       "      <td>1</td>\n",
       "    </tr>\n",
       "    <tr>\n",
       "      <th>1</th>\n",
       "      <td>3</td>\n",
       "      <td>29.0</td>\n",
       "      <td>0</td>\n",
       "      <td>0</td>\n",
       "      <td>8.050</td>\n",
       "      <td>0</td>\n",
       "      <td>0</td>\n",
       "      <td>1</td>\n",
       "      <td>0</td>\n",
       "      <td>0</td>\n",
       "      <td>1</td>\n",
       "    </tr>\n",
       "    <tr>\n",
       "      <th>2</th>\n",
       "      <td>2</td>\n",
       "      <td>39.0</td>\n",
       "      <td>0</td>\n",
       "      <td>0</td>\n",
       "      <td>26.000</td>\n",
       "      <td>0</td>\n",
       "      <td>0</td>\n",
       "      <td>1</td>\n",
       "      <td>0</td>\n",
       "      <td>0</td>\n",
       "      <td>1</td>\n",
       "    </tr>\n",
       "    <tr>\n",
       "      <th>3</th>\n",
       "      <td>3</td>\n",
       "      <td>29.0</td>\n",
       "      <td>0</td>\n",
       "      <td>4</td>\n",
       "      <td>21.075</td>\n",
       "      <td>0</td>\n",
       "      <td>0</td>\n",
       "      <td>0</td>\n",
       "      <td>0</td>\n",
       "      <td>0</td>\n",
       "      <td>1</td>\n",
       "    </tr>\n",
       "    <tr>\n",
       "      <th>4</th>\n",
       "      <td>3</td>\n",
       "      <td>25.0</td>\n",
       "      <td>0</td>\n",
       "      <td>0</td>\n",
       "      <td>7.050</td>\n",
       "      <td>0</td>\n",
       "      <td>0</td>\n",
       "      <td>1</td>\n",
       "      <td>0</td>\n",
       "      <td>0</td>\n",
       "      <td>1</td>\n",
       "    </tr>\n",
       "  </tbody>\n",
       "</table>\n",
       "</div>"
      ],
      "text/plain": [
       "   Pclass   Age  SibSp  Parch    Fare  Cabin  Survived  Male  Cherbourg  \\\n",
       "0       2  29.0      1      0  26.000      0         1     0          0   \n",
       "1       3  29.0      0      0   8.050      0         0     1          0   \n",
       "2       2  39.0      0      0  26.000      0         0     1          0   \n",
       "3       3  29.0      0      4  21.075      0         0     0          0   \n",
       "4       3  25.0      0      0   7.050      0         0     1          0   \n",
       "\n",
       "   Queenstown  Southamptom  \n",
       "0           0            1  \n",
       "1           0            1  \n",
       "2           0            1  \n",
       "3           0            1  \n",
       "4           0            1  "
      ]
     },
     "execution_count": 13,
     "metadata": {},
     "output_type": "execute_result"
    }
   ],
   "source": [
    "data[\"Age\"].fillna(data[\"Age\"].median(),inplace=True)\n",
    "data.head()"
   ]
  },
  {
   "cell_type": "code",
   "execution_count": 14,
   "id": "c1b36378",
   "metadata": {},
   "outputs": [
    {
     "data": {
      "text/plain": [
       "Pclass         0\n",
       "Age            0\n",
       "SibSp          0\n",
       "Parch          0\n",
       "Fare           0\n",
       "Cabin          0\n",
       "Survived       0\n",
       "Male           0\n",
       "Cherbourg      0\n",
       "Queenstown     0\n",
       "Southamptom    0\n",
       "dtype: int64"
      ]
     },
     "execution_count": 14,
     "metadata": {},
     "output_type": "execute_result"
    }
   ],
   "source": [
    "data.isnull().sum()"
   ]
  },
  {
   "cell_type": "markdown",
   "id": "a50fa506",
   "metadata": {},
   "source": [
    "clearly our testing data don't have any null values so now the cleaning part is almost done. The only thing is left to do is to split our data into X and Y for which we have to change the order of columns i.e. we will place the output column or survived column in the last of our data so that it become easy to split it into X and Y"
   ]
  },
  {
   "cell_type": "code",
   "execution_count": 15,
   "id": "f0c49415",
   "metadata": {},
   "outputs": [
    {
     "data": {
      "text/html": [
       "<div>\n",
       "<style scoped>\n",
       "    .dataframe tbody tr th:only-of-type {\n",
       "        vertical-align: middle;\n",
       "    }\n",
       "\n",
       "    .dataframe tbody tr th {\n",
       "        vertical-align: top;\n",
       "    }\n",
       "\n",
       "    .dataframe thead th {\n",
       "        text-align: right;\n",
       "    }\n",
       "</style>\n",
       "<table border=\"1\" class=\"dataframe\">\n",
       "  <thead>\n",
       "    <tr style=\"text-align: right;\">\n",
       "      <th></th>\n",
       "      <th>Pclass</th>\n",
       "      <th>Age</th>\n",
       "      <th>SibSp</th>\n",
       "      <th>Parch</th>\n",
       "      <th>Fare</th>\n",
       "      <th>Cabin</th>\n",
       "      <th>Male</th>\n",
       "      <th>Cherbourg</th>\n",
       "      <th>Queenstown</th>\n",
       "      <th>Southamptom</th>\n",
       "      <th>Survived</th>\n",
       "    </tr>\n",
       "  </thead>\n",
       "  <tbody>\n",
       "    <tr>\n",
       "      <th>0</th>\n",
       "      <td>2</td>\n",
       "      <td>29.0</td>\n",
       "      <td>1</td>\n",
       "      <td>0</td>\n",
       "      <td>26.000</td>\n",
       "      <td>0</td>\n",
       "      <td>0</td>\n",
       "      <td>0</td>\n",
       "      <td>0</td>\n",
       "      <td>1</td>\n",
       "      <td>1</td>\n",
       "    </tr>\n",
       "    <tr>\n",
       "      <th>1</th>\n",
       "      <td>3</td>\n",
       "      <td>29.0</td>\n",
       "      <td>0</td>\n",
       "      <td>0</td>\n",
       "      <td>8.050</td>\n",
       "      <td>0</td>\n",
       "      <td>1</td>\n",
       "      <td>0</td>\n",
       "      <td>0</td>\n",
       "      <td>1</td>\n",
       "      <td>0</td>\n",
       "    </tr>\n",
       "    <tr>\n",
       "      <th>2</th>\n",
       "      <td>2</td>\n",
       "      <td>39.0</td>\n",
       "      <td>0</td>\n",
       "      <td>0</td>\n",
       "      <td>26.000</td>\n",
       "      <td>0</td>\n",
       "      <td>1</td>\n",
       "      <td>0</td>\n",
       "      <td>0</td>\n",
       "      <td>1</td>\n",
       "      <td>0</td>\n",
       "    </tr>\n",
       "    <tr>\n",
       "      <th>3</th>\n",
       "      <td>3</td>\n",
       "      <td>29.0</td>\n",
       "      <td>0</td>\n",
       "      <td>4</td>\n",
       "      <td>21.075</td>\n",
       "      <td>0</td>\n",
       "      <td>0</td>\n",
       "      <td>0</td>\n",
       "      <td>0</td>\n",
       "      <td>1</td>\n",
       "      <td>0</td>\n",
       "    </tr>\n",
       "    <tr>\n",
       "      <th>4</th>\n",
       "      <td>3</td>\n",
       "      <td>25.0</td>\n",
       "      <td>0</td>\n",
       "      <td>0</td>\n",
       "      <td>7.050</td>\n",
       "      <td>0</td>\n",
       "      <td>1</td>\n",
       "      <td>0</td>\n",
       "      <td>0</td>\n",
       "      <td>1</td>\n",
       "      <td>0</td>\n",
       "    </tr>\n",
       "  </tbody>\n",
       "</table>\n",
       "</div>"
      ],
      "text/plain": [
       "   Pclass   Age  SibSp  Parch    Fare  Cabin  Male  Cherbourg  Queenstown  \\\n",
       "0       2  29.0      1      0  26.000      0     0          0           0   \n",
       "1       3  29.0      0      0   8.050      0     1          0           0   \n",
       "2       2  39.0      0      0  26.000      0     1          0           0   \n",
       "3       3  29.0      0      4  21.075      0     0          0           0   \n",
       "4       3  25.0      0      0   7.050      0     1          0           0   \n",
       "\n",
       "   Southamptom  Survived  \n",
       "0            1         1  \n",
       "1            1         0  \n",
       "2            1         0  \n",
       "3            1         0  \n",
       "4            1         0  "
      ]
     },
     "execution_count": 15,
     "metadata": {},
     "output_type": "execute_result"
    }
   ],
   "source": [
    "data = data[['Pclass', 'Age', 'SibSp', 'Parch', 'Fare','Cabin','Male','Cherbourg','Queenstown','Southamptom','Survived']]\n",
    "data.head()"
   ]
  },
  {
   "cell_type": "code",
   "execution_count": 16,
   "id": "efccd20c",
   "metadata": {},
   "outputs": [],
   "source": [
    "data = data.values"
   ]
  },
  {
   "cell_type": "code",
   "execution_count": 17,
   "id": "5e425828",
   "metadata": {},
   "outputs": [
    {
     "data": {
      "text/plain": [
       "((668, 10), (668,))"
      ]
     },
     "execution_count": 17,
     "metadata": {},
     "output_type": "execute_result"
    }
   ],
   "source": [
    "X = data[:,0:10]\n",
    "Y = data[:,10]\n",
    "X.shape,Y.shape"
   ]
  },
  {
   "cell_type": "markdown",
   "id": "639b3646",
   "metadata": {},
   "source": [
    "Now let's normalise our data with the help of standarscaler present in sklearn and then add an extra column containing all its values as 1 for the bias term so that we don't have to particularly add the bias term"
   ]
  },
  {
   "cell_type": "code",
   "execution_count": 18,
   "id": "cb58039a",
   "metadata": {},
   "outputs": [
    {
     "data": {
      "text/plain": [
       "((668, 11), (11,))"
      ]
     },
     "execution_count": 18,
     "metadata": {},
     "output_type": "execute_result"
    }
   ],
   "source": [
    "scaler = preprocessing.StandardScaler()\n",
    "scaler.fit(X)\n",
    "#StandardScaler(copy=True, with_mean=True, with_std=True)\n",
    "X_scaled = scaler.transform(X)\n",
    "\n",
    "X_scaled = np.append(X_scaled,np.ones(X_scaled.shape[0]).reshape(-1,1),axis=1)\n",
    "X_scaled.shape,X_scaled[0].shape"
   ]
  },
  {
   "cell_type": "markdown",
   "id": "e132a809",
   "metadata": {},
   "source": [
    "code for sigmoid,cost,step_gradient, fit, predict and accuracy function"
   ]
  },
  {
   "cell_type": "code",
   "execution_count": 19,
   "id": "4ad775ae",
   "metadata": {},
   "outputs": [],
   "source": [
    "def sigmoid(agg):\n",
    "    \n",
    "    return 1/(1+np.exp(-agg))\n",
    "\n",
    "def cost(X_train,Y_train,m):\n",
    "    \n",
    "    cost_ = 0\n",
    "    N = X_train.shape[0]\n",
    "    for i in range(N):\n",
    "        agg = (X_train[i]*m).sum()\n",
    "        h = sigmoid(agg)\n",
    "        cost = -Y_train[i]*np.log(h) - (1-Y_train[i])*np.log(1-h)\n",
    "        cost_ += cost\n",
    "    \n",
    "    return cost_\n",
    "\n",
    "def step_gradient(X_train,Y_train,lr,m):\n",
    "    \n",
    "    N = X_train.shape[0]\n",
    "    slope_m = np.zeros(X_train.shape[1])\n",
    "    for i in range(N):\n",
    "        agg = (X_train[i]*m).sum()\n",
    "        h = sigmoid(agg)\n",
    "        slope_m+=(-1/N)*(Y_train[i]-h)*X_train[i]\n",
    "        \n",
    "    m = m - lr*slope_m\n",
    "    return m\n",
    "\n",
    "def fit(X_train,Y_train,epochs=100,lr=0.01):\n",
    "    \n",
    "    m = np.zeros(X_train.shape[1])\n",
    "    cost_array = []\n",
    "    unit = epochs//10\n",
    "    for i in range(epochs+1):\n",
    "        m = step_gradient(X_train,Y_train,lr,m)\n",
    "        cost_ = cost(X_train,Y_train,m)\n",
    "        cost_array.append(cost_)\n",
    "        if i%unit==0:\n",
    "            print(\"Epoch:{}, Cost:{}\".format(i,cost_))\n",
    "    \n",
    "    return m\n",
    "\n",
    "def predict(X_test,m):\n",
    "    \n",
    "    y_pred = []\n",
    "    N = X_test.shape[0]\n",
    "    for i in range(N):\n",
    "        agg = (X_test[i]*m).sum()\n",
    "        h = sigmoid(agg)\n",
    "        if h>=0.5:\n",
    "            y_pred.append(1)\n",
    "        else:\n",
    "            y_pred.append(0)\n",
    "            \n",
    "    return np.array(y_pred)\n",
    "\n",
    "def accuracy(Y_test,Y_pred):\n",
    "    \n",
    "    correct = 0\n",
    "    N = Y_test.shape[0]\n",
    "    correct = (Y_test==Y_pred).sum()\n",
    "    \n",
    "    return (correct/N)*100\n"
   ]
  },
  {
   "cell_type": "markdown",
   "id": "5f81f719",
   "metadata": {},
   "source": [
    "calculating the weight value(m) by taking learning rate = 0.01 and number of iterations = 3000"
   ]
  },
  {
   "cell_type": "code",
   "execution_count": 22,
   "id": "0c7c1697",
   "metadata": {},
   "outputs": [
    {
     "name": "stdout",
     "output_type": "stream",
     "text": [
      "Epoch:0, Cost:461.9785152415146\n",
      "Epoch:300, Cost:344.68602291084113\n",
      "Epoch:600, Cost:320.3704338599514\n",
      "Epoch:900, Cost:311.1247536890323\n",
      "Epoch:1200, Cost:306.8650989405156\n",
      "Epoch:1500, Cost:304.6849806384847\n",
      "Epoch:1800, Cost:303.48507732172305\n",
      "Epoch:2100, Cost:302.78709777932795\n",
      "Epoch:2400, Cost:302.3625973646785\n",
      "Epoch:2700, Cost:302.09464309416165\n",
      "Epoch:3000, Cost:301.92004150378193\n",
      "[-0.63163319 -0.46119068 -0.30311597 -0.13232035  0.04935671  0.31708345\n",
      " -1.24619908  0.05857612  0.03220019 -0.0833964  -0.48768246]\n"
     ]
    }
   ],
   "source": [
    "m = fit(X_scaled,Y,3000,0.01)\n",
    "print(m)"
   ]
  },
  {
   "cell_type": "markdown",
   "id": "aa8c3ab2",
   "metadata": {},
   "source": [
    "calculating the weight value(m1) by taking learning rate = 0.02 and number of iterations = 3000"
   ]
  },
  {
   "cell_type": "code",
   "execution_count": 23,
   "id": "bce1ad9f",
   "metadata": {},
   "outputs": [
    {
     "name": "stdout",
     "output_type": "stream",
     "text": [
      "Epoch:0, Cost:460.9398657638049\n",
      "Epoch:300, Cost:320.2973685732067\n",
      "Epoch:600, Cost:306.84647698576305\n",
      "Epoch:900, Cost:303.47876190320545\n",
      "Epoch:1200, Cost:302.3600985099079\n",
      "Epoch:1500, Cost:301.91893906409507\n",
      "Epoch:1800, Cost:301.7223334015915\n",
      "Epoch:2100, Cost:301.62631589720996\n",
      "Epoch:2400, Cost:301.57611991795545\n",
      "Epoch:2700, Cost:301.54855392237596\n",
      "Epoch:3000, Cost:301.5328807480363\n",
      "[-0.71793779 -0.50644151 -0.33087474 -0.13411129  0.01710951  0.29223835\n",
      " -1.28818604  0.05259863  0.03607189 -0.08590096 -0.5054955 ]\n"
     ]
    }
   ],
   "source": [
    "m1 = fit(X_scaled,Y,3000,0.02)\n",
    "print(m1)"
   ]
  },
  {
   "cell_type": "markdown",
   "id": "0531f626",
   "metadata": {},
   "source": [
    "calculating the weight value(m2) by taking learning rate = 0.05 and number of iterations = 3000"
   ]
  },
  {
   "cell_type": "code",
   "execution_count": 25,
   "id": "86f07a1c",
   "metadata": {},
   "outputs": [
    {
     "name": "stdout",
     "output_type": "stream",
     "text": [
      "Epoch:0, Cost:457.85482469126515\n",
      "Epoch:300, Cost:304.64281525202193\n",
      "Epoch:600, Cost:301.9156501707306\n",
      "Epoch:900, Cost:301.59676304777395\n",
      "Epoch:1200, Cost:301.5327288522672\n",
      "Epoch:1500, Cost:301.5164666436549\n",
      "Epoch:1800, Cost:301.5118889167088\n",
      "Epoch:2100, Cost:301.5104864040435\n",
      "Epoch:2400, Cost:301.5099807379228\n",
      "Epoch:2700, Cost:301.50973228494655\n",
      "Epoch:3000, Cost:301.509558351797\n",
      "[-0.74924858 -0.515202   -0.3332485  -0.13020517  0.00656554  0.27588519\n",
      " -1.29277024  0.04500613  0.03520426 -0.09454061 -0.50954828]\n"
     ]
    }
   ],
   "source": [
    "m2 = fit(X_scaled,Y,3000,0.05)\n",
    "print(m2)"
   ]
  },
  {
   "cell_type": "markdown",
   "id": "6c9e59b4",
   "metadata": {},
   "source": [
    "calculating the weight value(m3) by taking learning rate = 0.1 and number of iterations = 3000"
   ]
  },
  {
   "cell_type": "code",
   "execution_count": 26,
   "id": "adb8cd10",
   "metadata": {},
   "outputs": [
    {
     "name": "stdout",
     "output_type": "stream",
     "text": [
      "Epoch:0, Cost:452.81606004678605\n",
      "Epoch:300, Cost:301.9102297021997\n",
      "Epoch:600, Cost:301.53247786455705\n",
      "Epoch:900, Cost:301.51186568539123\n",
      "Epoch:1200, Cost:301.5099778916595\n",
      "Epoch:1500, Cost:301.50955751065715\n",
      "Epoch:1800, Cost:301.5092607224191\n",
      "Epoch:2100, Cost:301.50897686954863\n",
      "Epoch:2400, Cost:301.5086967345738\n",
      "Epoch:2700, Cost:301.50841951274913\n",
      "Epoch:3000, Cost:301.5081450985474\n",
      "[-0.74998534 -0.51533031 -0.33319557 -0.13009433  0.00632221  0.27540618\n",
      " -1.29278087  0.03416512  0.02815726 -0.10668843 -0.50959771]\n"
     ]
    }
   ],
   "source": [
    "m3 = fit(X_scaled,Y,3000,0.1)\n",
    "print(m3)"
   ]
  },
  {
   "cell_type": "markdown",
   "id": "c767de78",
   "metadata": {},
   "source": [
    "calculating the weight value(m4) by taking learning rate = 0.2 and number of iterations = 3000"
   ]
  },
  {
   "cell_type": "code",
   "execution_count": 27,
   "id": "77c14aed",
   "metadata": {},
   "outputs": [
    {
     "name": "stdout",
     "output_type": "stream",
     "text": [
      "Epoch:0, Cost:443.12383991804245\n",
      "Epoch:300, Cost:301.53198395841594\n",
      "Epoch:600, Cost:301.50997228268017\n",
      "Epoch:900, Cost:301.50925943677373\n",
      "Epoch:1200, Cost:301.5086955088411\n",
      "Epoch:1500, Cost:301.5081438931765\n",
      "Epoch:1800, Cost:301.50760332594746\n",
      "Epoch:2100, Cost:301.5070734786687\n",
      "Epoch:2400, Cost:301.5065540413834\n",
      "Epoch:2700, Cost:301.50604471584154\n",
      "Epoch:3000, Cost:301.50554521492217\n",
      "[-0.74996653 -0.51532519 -0.33317413 -0.13007254  0.00631075  0.27536786\n",
      " -1.29272646  0.0133143   0.01440683 -0.13001373 -0.50954094]\n"
     ]
    }
   ],
   "source": [
    "m4 = fit(X_scaled,Y,3000,0.2)\n",
    "print(m4)"
   ]
  },
  {
   "cell_type": "markdown",
   "id": "6cd70b35",
   "metadata": {},
   "source": [
    "calculating the weight value(m5) by taking learning rate = 0.3 and number of iterations = 3000"
   ]
  },
  {
   "cell_type": "code",
   "execution_count": 28,
   "id": "ba561bf9",
   "metadata": {},
   "outputs": [
    {
     "name": "stdout",
     "output_type": "stream",
     "text": [
      "Epoch:0, Cost:433.94268959191953\n",
      "Epoch:300, Cost:301.51177523581975\n",
      "Epoch:600, Cost:301.5092581481828\n",
      "Epoch:900, Cost:301.50841707781666\n",
      "Epoch:1200, Cost:301.5076021359958\n",
      "Epoch:1500, Cost:301.5068113162515\n",
      "Epoch:1800, Cost:301.506043581897\n",
      "Epoch:2100, Cost:301.505297954449\n",
      "Epoch:2400, Cost:301.5045735092043\n",
      "Epoch:2700, Cost:301.5038693716411\n",
      "Epoch:3000, Cost:301.50318471409287\n",
      "[-0.74994807 -0.51532031 -0.3331547  -0.13005289  0.00630075  0.2753338\n",
      " -1.29267687 -0.00655384  0.0013047  -0.15223973 -0.5094858 ]\n"
     ]
    }
   ],
   "source": [
    "m5 = fit(X_scaled,Y,3000,0.3)\n",
    "print(m5)"
   ]
  },
  {
   "cell_type": "markdown",
   "id": "47ea38d1",
   "metadata": {},
   "source": [
    "calculating the weight value(m6) by taking learning rate = 0.5 and number of iterations = 3000"
   ]
  },
  {
   "cell_type": "code",
   "execution_count": 29,
   "id": "782012c7",
   "metadata": {},
   "outputs": [
    {
     "name": "stdout",
     "output_type": "stream",
     "text": [
      "Epoch:0, Cost:417.09240368811953\n",
      "Epoch:300, Cost:301.50955085810335\n",
      "Epoch:600, Cost:301.5081402512856\n",
      "Epoch:900, Cost:301.50680898083516\n",
      "Epoch:1200, Cost:301.50554185446754\n",
      "Epoch:1500, Cost:301.5043344235973\n",
      "Epoch:1800, Cost:301.50318263649814\n",
      "Epoch:2100, Cost:301.5020827954378\n",
      "Epoch:2400, Cost:301.501031519235\n",
      "Epoch:2700, Cost:301.5000257104272\n",
      "Epoch:3000, Cost:301.4990625264105\n",
      "[-0.74991573 -0.51531176 -0.33312067 -0.13001845  0.00628323  0.27527414\n",
      " -1.29258999 -0.04367659 -0.02317498 -0.19376819 -0.50938052]\n"
     ]
    }
   ],
   "source": [
    "m6 = fit(X_scaled,Y,3000,0.5)\n",
    "print(m6)"
   ]
  },
  {
   "cell_type": "markdown",
   "id": "0a0044c7",
   "metadata": {},
   "source": [
    "calculating the weight value(m6) by taking learning rate = 1 and number of iterations = 3000"
   ]
  },
  {
   "cell_type": "code",
   "execution_count": 30,
   "id": "f6a0f1c0",
   "metadata": {},
   "outputs": [
    {
     "name": "stdout",
     "output_type": "stream",
     "text": [
      "Epoch:0, Cost:383.375985704019\n",
      "Epoch:300, Cost:301.5081340739705\n",
      "Epoch:600, Cost:301.50553615631407\n",
      "Epoch:900, Cost:301.5031773629468\n",
      "Epoch:1200, Cost:301.50102662373575\n",
      "Epoch:1500, Cost:301.4990579690012\n",
      "Epoch:1800, Cost:301.4972495331412\n",
      "Epoch:2100, Cost:301.49558278140853\n",
      "Epoch:2400, Cost:301.49404190396416\n",
      "Epoch:2700, Cost:301.4926133367125\n",
      "Epoch:3000, Cost:301.49128537916437\n",
      "[-0.74985433 -0.51529556 -0.33305611 -0.12995311  0.00624997  0.2751609\n",
      " -1.29242514 -0.12420294 -0.07627168 -0.28385196 -0.50914296]\n"
     ]
    }
   ],
   "source": [
    "m7 = fit(X_scaled,Y,3000,1)\n",
    "print(m7)"
   ]
  },
  {
   "cell_type": "code",
   "execution_count": 31,
   "id": "3e5a4789",
   "metadata": {},
   "outputs": [
    {
     "data": {
      "text/plain": [
       "79.34131736526946"
      ]
     },
     "execution_count": 31,
     "metadata": {},
     "output_type": "execute_result"
    }
   ],
   "source": [
    "y_pred_train = predict(X_scaled,m)\n",
    "accuracy(Y,y_pred_train)"
   ]
  },
  {
   "cell_type": "code",
   "execution_count": 32,
   "id": "32e2f501",
   "metadata": {},
   "outputs": [
    {
     "data": {
      "text/plain": [
       "79.49101796407186"
      ]
     },
     "execution_count": 32,
     "metadata": {},
     "output_type": "execute_result"
    }
   ],
   "source": [
    "y_pred_train = predict(X_scaled,m2)\n",
    "accuracy(Y,y_pred_train)"
   ]
  },
  {
   "cell_type": "code",
   "execution_count": 33,
   "id": "43e6e7b1",
   "metadata": {},
   "outputs": [
    {
     "data": {
      "text/plain": [
       "79.49101796407186"
      ]
     },
     "execution_count": 33,
     "metadata": {},
     "output_type": "execute_result"
    }
   ],
   "source": [
    "y_pred_train = predict(X_scaled,m4)\n",
    "accuracy(Y,y_pred_train)"
   ]
  },
  {
   "cell_type": "code",
   "execution_count": 34,
   "id": "276438ea",
   "metadata": {},
   "outputs": [
    {
     "data": {
      "text/plain": [
       "79.49101796407186"
      ]
     },
     "execution_count": 34,
     "metadata": {},
     "output_type": "execute_result"
    }
   ],
   "source": [
    "y_pred_train = predict(X_scaled,m6)\n",
    "accuracy(Y,y_pred_train)"
   ]
  },
  {
   "cell_type": "code",
   "execution_count": 35,
   "id": "47ad4eca",
   "metadata": {},
   "outputs": [
    {
     "data": {
      "text/plain": [
       "79.49101796407186"
      ]
     },
     "execution_count": 35,
     "metadata": {},
     "output_type": "execute_result"
    }
   ],
   "source": [
    "y_pred_train = predict(X_scaled,m7)\n",
    "accuracy(Y,y_pred_train)"
   ]
  },
  {
   "cell_type": "code",
   "execution_count": 49,
   "id": "36858b31",
   "metadata": {},
   "outputs": [],
   "source": [
    "X_test = pd.read_csv(\"test.csv\")"
   ]
  },
  {
   "cell_type": "code",
   "execution_count": 50,
   "id": "50d53caa",
   "metadata": {},
   "outputs": [
    {
     "data": {
      "text/html": [
       "<div>\n",
       "<style scoped>\n",
       "    .dataframe tbody tr th:only-of-type {\n",
       "        vertical-align: middle;\n",
       "    }\n",
       "\n",
       "    .dataframe tbody tr th {\n",
       "        vertical-align: top;\n",
       "    }\n",
       "\n",
       "    .dataframe thead th {\n",
       "        text-align: right;\n",
       "    }\n",
       "</style>\n",
       "<table border=\"1\" class=\"dataframe\">\n",
       "  <thead>\n",
       "    <tr style=\"text-align: right;\">\n",
       "      <th></th>\n",
       "      <th>Pclass</th>\n",
       "      <th>Age</th>\n",
       "      <th>SibSp</th>\n",
       "      <th>Parch</th>\n",
       "      <th>Fare</th>\n",
       "      <th>Cabin</th>\n",
       "      <th>Embarked</th>\n",
       "      <th>Male</th>\n",
       "    </tr>\n",
       "  </thead>\n",
       "  <tbody>\n",
       "    <tr>\n",
       "      <th>0</th>\n",
       "      <td>2</td>\n",
       "      <td>8.0</td>\n",
       "      <td>1</td>\n",
       "      <td>1</td>\n",
       "      <td>36.7500</td>\n",
       "      <td>NaN</td>\n",
       "      <td>S</td>\n",
       "      <td>1</td>\n",
       "    </tr>\n",
       "    <tr>\n",
       "      <th>1</th>\n",
       "      <td>1</td>\n",
       "      <td>49.0</td>\n",
       "      <td>0</td>\n",
       "      <td>0</td>\n",
       "      <td>25.9292</td>\n",
       "      <td>D17</td>\n",
       "      <td>S</td>\n",
       "      <td>0</td>\n",
       "    </tr>\n",
       "    <tr>\n",
       "      <th>2</th>\n",
       "      <td>3</td>\n",
       "      <td>NaN</td>\n",
       "      <td>0</td>\n",
       "      <td>0</td>\n",
       "      <td>7.7375</td>\n",
       "      <td>NaN</td>\n",
       "      <td>Q</td>\n",
       "      <td>1</td>\n",
       "    </tr>\n",
       "    <tr>\n",
       "      <th>3</th>\n",
       "      <td>2</td>\n",
       "      <td>24.0</td>\n",
       "      <td>2</td>\n",
       "      <td>1</td>\n",
       "      <td>27.0000</td>\n",
       "      <td>NaN</td>\n",
       "      <td>S</td>\n",
       "      <td>0</td>\n",
       "    </tr>\n",
       "    <tr>\n",
       "      <th>4</th>\n",
       "      <td>1</td>\n",
       "      <td>36.0</td>\n",
       "      <td>0</td>\n",
       "      <td>0</td>\n",
       "      <td>26.2875</td>\n",
       "      <td>E25</td>\n",
       "      <td>S</td>\n",
       "      <td>1</td>\n",
       "    </tr>\n",
       "  </tbody>\n",
       "</table>\n",
       "</div>"
      ],
      "text/plain": [
       "   Pclass   Age  SibSp  Parch     Fare Cabin Embarked  Male\n",
       "0       2   8.0      1      1  36.7500   NaN        S     1\n",
       "1       1  49.0      0      0  25.9292   D17        S     0\n",
       "2       3   NaN      0      0   7.7375   NaN        Q     1\n",
       "3       2  24.0      2      1  27.0000   NaN        S     0\n",
       "4       1  36.0      0      0  26.2875   E25        S     1"
      ]
     },
     "execution_count": 50,
     "metadata": {},
     "output_type": "execute_result"
    }
   ],
   "source": [
    "X_test.drop([\"Name\",\"Ticket\"],axis=1,inplace=True)\n",
    "X_test[\"Male\"] = X_test[\"Sex\"].apply(male_ohe)\n",
    "X_test.drop(\"Sex\",axis=1,inplace=True)\n",
    "X_test.head()"
   ]
  },
  {
   "cell_type": "code",
   "execution_count": 51,
   "id": "95171609",
   "metadata": {},
   "outputs": [
    {
     "data": {
      "text/html": [
       "<div>\n",
       "<style scoped>\n",
       "    .dataframe tbody tr th:only-of-type {\n",
       "        vertical-align: middle;\n",
       "    }\n",
       "\n",
       "    .dataframe tbody tr th {\n",
       "        vertical-align: top;\n",
       "    }\n",
       "\n",
       "    .dataframe thead th {\n",
       "        text-align: right;\n",
       "    }\n",
       "</style>\n",
       "<table border=\"1\" class=\"dataframe\">\n",
       "  <thead>\n",
       "    <tr style=\"text-align: right;\">\n",
       "      <th></th>\n",
       "      <th>Pclass</th>\n",
       "      <th>Age</th>\n",
       "      <th>SibSp</th>\n",
       "      <th>Parch</th>\n",
       "      <th>Fare</th>\n",
       "      <th>Cabin</th>\n",
       "      <th>Male</th>\n",
       "      <th>Cherbourg</th>\n",
       "      <th>Queenstown</th>\n",
       "      <th>Southamptom</th>\n",
       "    </tr>\n",
       "  </thead>\n",
       "  <tbody>\n",
       "    <tr>\n",
       "      <th>0</th>\n",
       "      <td>2</td>\n",
       "      <td>8.0</td>\n",
       "      <td>1</td>\n",
       "      <td>1</td>\n",
       "      <td>36.7500</td>\n",
       "      <td>NaN</td>\n",
       "      <td>1</td>\n",
       "      <td>0</td>\n",
       "      <td>0</td>\n",
       "      <td>1</td>\n",
       "    </tr>\n",
       "    <tr>\n",
       "      <th>1</th>\n",
       "      <td>1</td>\n",
       "      <td>49.0</td>\n",
       "      <td>0</td>\n",
       "      <td>0</td>\n",
       "      <td>25.9292</td>\n",
       "      <td>D17</td>\n",
       "      <td>0</td>\n",
       "      <td>0</td>\n",
       "      <td>0</td>\n",
       "      <td>1</td>\n",
       "    </tr>\n",
       "    <tr>\n",
       "      <th>2</th>\n",
       "      <td>3</td>\n",
       "      <td>NaN</td>\n",
       "      <td>0</td>\n",
       "      <td>0</td>\n",
       "      <td>7.7375</td>\n",
       "      <td>NaN</td>\n",
       "      <td>1</td>\n",
       "      <td>0</td>\n",
       "      <td>1</td>\n",
       "      <td>0</td>\n",
       "    </tr>\n",
       "    <tr>\n",
       "      <th>3</th>\n",
       "      <td>2</td>\n",
       "      <td>24.0</td>\n",
       "      <td>2</td>\n",
       "      <td>1</td>\n",
       "      <td>27.0000</td>\n",
       "      <td>NaN</td>\n",
       "      <td>0</td>\n",
       "      <td>0</td>\n",
       "      <td>0</td>\n",
       "      <td>1</td>\n",
       "    </tr>\n",
       "    <tr>\n",
       "      <th>4</th>\n",
       "      <td>1</td>\n",
       "      <td>36.0</td>\n",
       "      <td>0</td>\n",
       "      <td>0</td>\n",
       "      <td>26.2875</td>\n",
       "      <td>E25</td>\n",
       "      <td>1</td>\n",
       "      <td>0</td>\n",
       "      <td>0</td>\n",
       "      <td>1</td>\n",
       "    </tr>\n",
       "  </tbody>\n",
       "</table>\n",
       "</div>"
      ],
      "text/plain": [
       "   Pclass   Age  SibSp  Parch     Fare Cabin  Male  Cherbourg  Queenstown  \\\n",
       "0       2   8.0      1      1  36.7500   NaN     1          0           0   \n",
       "1       1  49.0      0      0  25.9292   D17     0          0           0   \n",
       "2       3   NaN      0      0   7.7375   NaN     1          0           1   \n",
       "3       2  24.0      2      1  27.0000   NaN     0          0           0   \n",
       "4       1  36.0      0      0  26.2875   E25     1          0           0   \n",
       "\n",
       "   Southamptom  \n",
       "0            1  \n",
       "1            1  \n",
       "2            0  \n",
       "3            1  \n",
       "4            1  "
      ]
     },
     "execution_count": 51,
     "metadata": {},
     "output_type": "execute_result"
    }
   ],
   "source": [
    "X_test[\"Cherbourg\"] = X_test.Embarked.apply(cherbourg)\n",
    "X_test[\"Queenstown\"] = X_test.Embarked.apply(queenstown)\n",
    "X_test[\"Southamptom\"] = X_test.Embarked.apply(southamptom)\n",
    "X_test.drop(\"Embarked\",axis=1, inplace=True)\n",
    "X_test.head()"
   ]
  },
  {
   "cell_type": "code",
   "execution_count": 52,
   "id": "acfed633",
   "metadata": {},
   "outputs": [
    {
     "data": {
      "text/html": [
       "<div>\n",
       "<style scoped>\n",
       "    .dataframe tbody tr th:only-of-type {\n",
       "        vertical-align: middle;\n",
       "    }\n",
       "\n",
       "    .dataframe tbody tr th {\n",
       "        vertical-align: top;\n",
       "    }\n",
       "\n",
       "    .dataframe thead th {\n",
       "        text-align: right;\n",
       "    }\n",
       "</style>\n",
       "<table border=\"1\" class=\"dataframe\">\n",
       "  <thead>\n",
       "    <tr style=\"text-align: right;\">\n",
       "      <th></th>\n",
       "      <th>Pclass</th>\n",
       "      <th>Age</th>\n",
       "      <th>SibSp</th>\n",
       "      <th>Parch</th>\n",
       "      <th>Fare</th>\n",
       "      <th>Cabin</th>\n",
       "      <th>Male</th>\n",
       "      <th>Cherbourg</th>\n",
       "      <th>Queenstown</th>\n",
       "      <th>Southamptom</th>\n",
       "    </tr>\n",
       "  </thead>\n",
       "  <tbody>\n",
       "    <tr>\n",
       "      <th>0</th>\n",
       "      <td>2</td>\n",
       "      <td>8.0</td>\n",
       "      <td>1</td>\n",
       "      <td>1</td>\n",
       "      <td>36.7500</td>\n",
       "      <td>0</td>\n",
       "      <td>1</td>\n",
       "      <td>0</td>\n",
       "      <td>0</td>\n",
       "      <td>1</td>\n",
       "    </tr>\n",
       "    <tr>\n",
       "      <th>1</th>\n",
       "      <td>1</td>\n",
       "      <td>49.0</td>\n",
       "      <td>0</td>\n",
       "      <td>0</td>\n",
       "      <td>25.9292</td>\n",
       "      <td>1</td>\n",
       "      <td>0</td>\n",
       "      <td>0</td>\n",
       "      <td>0</td>\n",
       "      <td>1</td>\n",
       "    </tr>\n",
       "    <tr>\n",
       "      <th>2</th>\n",
       "      <td>3</td>\n",
       "      <td>NaN</td>\n",
       "      <td>0</td>\n",
       "      <td>0</td>\n",
       "      <td>7.7375</td>\n",
       "      <td>0</td>\n",
       "      <td>1</td>\n",
       "      <td>0</td>\n",
       "      <td>1</td>\n",
       "      <td>0</td>\n",
       "    </tr>\n",
       "    <tr>\n",
       "      <th>3</th>\n",
       "      <td>2</td>\n",
       "      <td>24.0</td>\n",
       "      <td>2</td>\n",
       "      <td>1</td>\n",
       "      <td>27.0000</td>\n",
       "      <td>0</td>\n",
       "      <td>0</td>\n",
       "      <td>0</td>\n",
       "      <td>0</td>\n",
       "      <td>1</td>\n",
       "    </tr>\n",
       "    <tr>\n",
       "      <th>4</th>\n",
       "      <td>1</td>\n",
       "      <td>36.0</td>\n",
       "      <td>0</td>\n",
       "      <td>0</td>\n",
       "      <td>26.2875</td>\n",
       "      <td>1</td>\n",
       "      <td>1</td>\n",
       "      <td>0</td>\n",
       "      <td>0</td>\n",
       "      <td>1</td>\n",
       "    </tr>\n",
       "  </tbody>\n",
       "</table>\n",
       "</div>"
      ],
      "text/plain": [
       "   Pclass   Age  SibSp  Parch     Fare  Cabin  Male  Cherbourg  Queenstown  \\\n",
       "0       2   8.0      1      1  36.7500      0     1          0           0   \n",
       "1       1  49.0      0      0  25.9292      1     0          0           0   \n",
       "2       3   NaN      0      0   7.7375      0     1          0           1   \n",
       "3       2  24.0      2      1  27.0000      0     0          0           0   \n",
       "4       1  36.0      0      0  26.2875      1     1          0           0   \n",
       "\n",
       "   Southamptom  \n",
       "0            1  \n",
       "1            1  \n",
       "2            0  \n",
       "3            1  \n",
       "4            1  "
      ]
     },
     "execution_count": 52,
     "metadata": {},
     "output_type": "execute_result"
    }
   ],
   "source": [
    "X_test[\"Cabin\"] = X_test.Cabin.apply(cabin)\n",
    "X_test.head()"
   ]
  },
  {
   "cell_type": "markdown",
   "id": "c7b133ca",
   "metadata": {},
   "source": [
    "As the median of training data was 29 so replacing the nan values in age with median of test data"
   ]
  },
  {
   "cell_type": "code",
   "execution_count": 53,
   "id": "12ba231e",
   "metadata": {},
   "outputs": [
    {
     "data": {
      "text/html": [
       "<div>\n",
       "<style scoped>\n",
       "    .dataframe tbody tr th:only-of-type {\n",
       "        vertical-align: middle;\n",
       "    }\n",
       "\n",
       "    .dataframe tbody tr th {\n",
       "        vertical-align: top;\n",
       "    }\n",
       "\n",
       "    .dataframe thead th {\n",
       "        text-align: right;\n",
       "    }\n",
       "</style>\n",
       "<table border=\"1\" class=\"dataframe\">\n",
       "  <thead>\n",
       "    <tr style=\"text-align: right;\">\n",
       "      <th></th>\n",
       "      <th>Pclass</th>\n",
       "      <th>Age</th>\n",
       "      <th>SibSp</th>\n",
       "      <th>Parch</th>\n",
       "      <th>Fare</th>\n",
       "      <th>Cabin</th>\n",
       "      <th>Male</th>\n",
       "      <th>Cherbourg</th>\n",
       "      <th>Queenstown</th>\n",
       "      <th>Southamptom</th>\n",
       "    </tr>\n",
       "  </thead>\n",
       "  <tbody>\n",
       "    <tr>\n",
       "      <th>0</th>\n",
       "      <td>2</td>\n",
       "      <td>8.0</td>\n",
       "      <td>1</td>\n",
       "      <td>1</td>\n",
       "      <td>36.7500</td>\n",
       "      <td>0</td>\n",
       "      <td>1</td>\n",
       "      <td>0</td>\n",
       "      <td>0</td>\n",
       "      <td>1</td>\n",
       "    </tr>\n",
       "    <tr>\n",
       "      <th>1</th>\n",
       "      <td>1</td>\n",
       "      <td>49.0</td>\n",
       "      <td>0</td>\n",
       "      <td>0</td>\n",
       "      <td>25.9292</td>\n",
       "      <td>1</td>\n",
       "      <td>0</td>\n",
       "      <td>0</td>\n",
       "      <td>0</td>\n",
       "      <td>1</td>\n",
       "    </tr>\n",
       "    <tr>\n",
       "      <th>2</th>\n",
       "      <td>3</td>\n",
       "      <td>29.0</td>\n",
       "      <td>0</td>\n",
       "      <td>0</td>\n",
       "      <td>7.7375</td>\n",
       "      <td>0</td>\n",
       "      <td>1</td>\n",
       "      <td>0</td>\n",
       "      <td>1</td>\n",
       "      <td>0</td>\n",
       "    </tr>\n",
       "    <tr>\n",
       "      <th>3</th>\n",
       "      <td>2</td>\n",
       "      <td>24.0</td>\n",
       "      <td>2</td>\n",
       "      <td>1</td>\n",
       "      <td>27.0000</td>\n",
       "      <td>0</td>\n",
       "      <td>0</td>\n",
       "      <td>0</td>\n",
       "      <td>0</td>\n",
       "      <td>1</td>\n",
       "    </tr>\n",
       "    <tr>\n",
       "      <th>4</th>\n",
       "      <td>1</td>\n",
       "      <td>36.0</td>\n",
       "      <td>0</td>\n",
       "      <td>0</td>\n",
       "      <td>26.2875</td>\n",
       "      <td>1</td>\n",
       "      <td>1</td>\n",
       "      <td>0</td>\n",
       "      <td>0</td>\n",
       "      <td>1</td>\n",
       "    </tr>\n",
       "  </tbody>\n",
       "</table>\n",
       "</div>"
      ],
      "text/plain": [
       "   Pclass   Age  SibSp  Parch     Fare  Cabin  Male  Cherbourg  Queenstown  \\\n",
       "0       2   8.0      1      1  36.7500      0     1          0           0   \n",
       "1       1  49.0      0      0  25.9292      1     0          0           0   \n",
       "2       3  29.0      0      0   7.7375      0     1          0           1   \n",
       "3       2  24.0      2      1  27.0000      0     0          0           0   \n",
       "4       1  36.0      0      0  26.2875      1     1          0           0   \n",
       "\n",
       "   Southamptom  \n",
       "0            1  \n",
       "1            1  \n",
       "2            0  \n",
       "3            1  \n",
       "4            1  "
      ]
     },
     "execution_count": 53,
     "metadata": {},
     "output_type": "execute_result"
    }
   ],
   "source": [
    "X_test[\"Age\"].fillna(29,inplace=True)\n",
    "X_test.head()"
   ]
  },
  {
   "cell_type": "code",
   "execution_count": 54,
   "id": "68eec820",
   "metadata": {},
   "outputs": [
    {
     "data": {
      "text/plain": [
       "(223, 10)"
      ]
     },
     "execution_count": 54,
     "metadata": {},
     "output_type": "execute_result"
    }
   ],
   "source": [
    "X_test = X_test.values\n",
    "X_test_scaled = scaler.transform(X_test)\n",
    "X_test_scaled.shape"
   ]
  },
  {
   "cell_type": "code",
   "execution_count": 55,
   "id": "dc0bdc25",
   "metadata": {},
   "outputs": [],
   "source": [
    "X_test_scaled = np.append(X_test_scaled,np.ones(X_test_scaled.shape[0]).reshape(-1,1),axis=1)"
   ]
  },
  {
   "cell_type": "code",
   "execution_count": 56,
   "id": "82370041",
   "metadata": {},
   "outputs": [],
   "source": [
    "y_pred_test = predict(X_test_scaled,m7)\n"
   ]
  },
  {
   "cell_type": "code",
   "execution_count": 58,
   "id": "e2a72b10",
   "metadata": {},
   "outputs": [],
   "source": [
    "np.savetxt(\"predictions\", y_pred_test, delimiter=',')"
   ]
  },
  {
   "cell_type": "code",
   "execution_count": null,
   "id": "17ae88b5",
   "metadata": {},
   "outputs": [],
   "source": []
  }
 ],
 "metadata": {
  "kernelspec": {
   "display_name": "Python 3 (ipykernel)",
   "language": "python",
   "name": "python3"
  },
  "language_info": {
   "codemirror_mode": {
    "name": "ipython",
    "version": 3
   },
   "file_extension": ".py",
   "mimetype": "text/x-python",
   "name": "python",
   "nbconvert_exporter": "python",
   "pygments_lexer": "ipython3",
   "version": "3.9.12"
  }
 },
 "nbformat": 4,
 "nbformat_minor": 5
}
